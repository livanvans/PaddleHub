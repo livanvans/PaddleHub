{
 "cells": [
  {
   "cell_type": "markdown",
   "metadata": {
    "collapsed": false
   },
   "source": [
    " <font size=\"5\" color=\"black\">一.项目背景介绍：</font>近年来，随着人们对更美好生活的向往，国家大力推动垃圾分类活动，以大城市作为试点，逐步推广，然而，不管是大城市还是小城市，人们普遍对垃圾分类有关知识了解甚少，尤其是在试点城市，很多市民错放垃圾，为向大家普及有关知识，通过计算机视觉的方法，在实地进行垃圾分类之前可以正确知道该如何分类，可以减少垃圾集中处理点的工作人员的工作量，提高效率，为建设美好中国做贡献。"
   ]
  },
  {
   "cell_type": "markdown",
   "metadata": {
    "collapsed": false
   },
   "source": [
    " <font size=\"5\" color=\"black\">二.数据介绍：</font>使用paddle上的数据集，有关垃圾分类的，数量69003"
   ]
  },
  {
   "cell_type": "markdown",
   "metadata": {
    "collapsed": false
   },
   "source": [
    " <font size=\"5\" color=\"black\">paddlex准备：</font>"
   ]
  },
  {
   "cell_type": "code",
   "execution_count": 1,
   "metadata": {
    "collapsed": false
   },
   "outputs": [
    {
     "name": "stdout",
     "output_type": "stream",
     "text": [
      "Looking in indexes: https://pypi.tuna.tsinghua.edu.cn/simple\n",
      "Collecting paddlex\n",
      "  Downloading https://pypi.tuna.tsinghua.edu.cn/packages/ca/03/b401c6a34685aa698e7c2fbcfad029892cbfa4b562eaaa7722037fef86ed/paddlex-2.1.0-py3-none-any.whl (1.6 MB)\n",
      "     |████████████████████████████████| 1.6 MB 6.4 MB/s            \n",
      "\u001b[?25hRequirement already satisfied: colorama in /opt/conda/envs/python35-paddle120-env/lib/python3.7/site-packages (from paddlex) (0.4.4)\n",
      "Collecting shapely>=1.7.0\n",
      "  Downloading https://pypi.tuna.tsinghua.edu.cn/packages/9d/4d/4b0d86ed737acb29c5e627a91449470a9fb914f32640db3f1cb7ba5bc19e/Shapely-1.8.1.post1-cp37-cp37m-manylinux_2_12_x86_64.manylinux2010_x86_64.whl (2.0 MB)\n",
      "     |████████████████████████████████| 2.0 MB 18.9 MB/s            \n",
      "\u001b[?25hRequirement already satisfied: opencv-python in /opt/conda/envs/python35-paddle120-env/lib/python3.7/site-packages (from paddlex) (4.1.1.26)\n",
      "Requirement already satisfied: scipy in /opt/conda/envs/python35-paddle120-env/lib/python3.7/site-packages (from paddlex) (1.3.0)\n",
      "Collecting scikit-learn==0.23.2\n",
      "  Downloading https://pypi.tuna.tsinghua.edu.cn/packages/f4/cb/64623369f348e9bfb29ff898a57ac7c91ed4921f228e9726546614d63ccb/scikit_learn-0.23.2-cp37-cp37m-manylinux1_x86_64.whl (6.8 MB)\n",
      "     |████████████████████████████████| 6.8 MB 3.4 MB/s            \n",
      "\u001b[?25hRequirement already satisfied: chardet in /opt/conda/envs/python35-paddle120-env/lib/python3.7/site-packages (from paddlex) (3.0.4)\n",
      "Requirement already satisfied: pyyaml in /opt/conda/envs/python35-paddle120-env/lib/python3.7/site-packages (from paddlex) (5.1.2)\n",
      "Collecting visualdl>=2.2.2\n",
      "  Downloading https://pypi.tuna.tsinghua.edu.cn/packages/87/c8/10d0d24822637d8e5493a73ad118640530195e45b1c71ae0e60606ff5f0e/visualdl-2.2.3-py3-none-any.whl (2.7 MB)\n",
      "     |████████████████████████████████| 2.7 MB 5.0 MB/s            \n",
      "\u001b[?25hCollecting paddleslim==2.2.1\n",
      "  Downloading https://pypi.tuna.tsinghua.edu.cn/packages/0b/dc/f46c4669d4cb35de23581a2380d55bf9d38bb6855aab1978fdb956d85da6/paddleslim-2.2.1-py3-none-any.whl (310 kB)\n",
      "     |████████████████████████████████| 310 kB 6.3 MB/s            \n",
      "\u001b[?25hRequirement already satisfied: openpyxl in /opt/conda/envs/python35-paddle120-env/lib/python3.7/site-packages (from paddlex) (3.0.5)\n",
      "Collecting pycocotools\n",
      "  Downloading https://pypi.tuna.tsinghua.edu.cn/packages/75/5c/ac61ea715d7a89ecc31c090753bde28810238225ca8b71778dfe3e6a68bc/pycocotools-2.0.4.tar.gz (106 kB)\n",
      "     |████████████████████████████████| 106 kB 6.0 MB/s            \n",
      "\u001b[?25h  Installing build dependencies ... \u001b[?25ldone\n",
      "\u001b[?25h  Getting requirements to build wheel ... \u001b[?25ldone\n",
      "\u001b[?25h  Preparing metadata (pyproject.toml) ... \u001b[?25ldone\n",
      "\u001b[?25hRequirement already satisfied: tqdm in /opt/conda/envs/python35-paddle120-env/lib/python3.7/site-packages (from paddlex) (4.27.0)\n",
      "Requirement already satisfied: flask-cors in /opt/conda/envs/python35-paddle120-env/lib/python3.7/site-packages (from paddlex) (3.0.8)\n",
      "Collecting motmetrics\n",
      "  Downloading https://pypi.tuna.tsinghua.edu.cn/packages/9c/28/9c3bc8e2a87f4c9e7b04ab72856ec7f9895a66681a65973ffaf9562ef879/motmetrics-1.2.0-py3-none-any.whl (151 kB)\n",
      "     |████████████████████████████████| 151 kB 4.4 MB/s            \n",
      "\u001b[?25hCollecting lap\n",
      "  Downloading https://pypi.tuna.tsinghua.edu.cn/packages/bf/64/d9fb6a75b15e783952b2fec6970f033462e67db32dc43dfbb404c14e91c2/lap-0.4.0.tar.gz (1.5 MB)\n",
      "     |████████████████████████████████| 1.5 MB 9.2 MB/s            \n",
      "\u001b[?25h  Preparing metadata (setup.py) ... \u001b[?25ldone\n",
      "\u001b[?25hRequirement already satisfied: matplotlib in /opt/conda/envs/python35-paddle120-env/lib/python3.7/site-packages (from paddleslim==2.2.1->paddlex) (2.2.3)\n",
      "Requirement already satisfied: pyzmq in /opt/conda/envs/python35-paddle120-env/lib/python3.7/site-packages (from paddleslim==2.2.1->paddlex) (22.3.0)\n",
      "Requirement already satisfied: pillow in /opt/conda/envs/python35-paddle120-env/lib/python3.7/site-packages (from paddleslim==2.2.1->paddlex) (8.2.0)\n",
      "Collecting threadpoolctl>=2.0.0\n",
      "  Downloading https://pypi.tuna.tsinghua.edu.cn/packages/61/cf/6e354304bcb9c6413c4e02a747b600061c21d38ba51e7e544ac7bc66aecc/threadpoolctl-3.1.0-py3-none-any.whl (14 kB)\n",
      "Requirement already satisfied: numpy>=1.13.3 in /opt/conda/envs/python35-paddle120-env/lib/python3.7/site-packages (from scikit-learn==0.23.2->paddlex) (1.19.5)\n",
      "Requirement already satisfied: joblib>=0.11 in /opt/conda/envs/python35-paddle120-env/lib/python3.7/site-packages (from scikit-learn==0.23.2->paddlex) (0.14.1)\n",
      "Requirement already satisfied: requests in /opt/conda/envs/python35-paddle120-env/lib/python3.7/site-packages (from visualdl>=2.2.2->paddlex) (2.24.0)\n",
      "Requirement already satisfied: six>=1.14.0 in /opt/conda/envs/python35-paddle120-env/lib/python3.7/site-packages (from visualdl>=2.2.2->paddlex) (1.16.0)\n",
      "Requirement already satisfied: pre-commit in /opt/conda/envs/python35-paddle120-env/lib/python3.7/site-packages (from visualdl>=2.2.2->paddlex) (1.21.0)\n",
      "Requirement already satisfied: Flask-Babel>=1.0.0 in /opt/conda/envs/python35-paddle120-env/lib/python3.7/site-packages (from visualdl>=2.2.2->paddlex) (1.0.0)\n",
      "Requirement already satisfied: pandas in /opt/conda/envs/python35-paddle120-env/lib/python3.7/site-packages (from visualdl>=2.2.2->paddlex) (1.1.5)\n",
      "Requirement already satisfied: flask>=1.1.1 in /opt/conda/envs/python35-paddle120-env/lib/python3.7/site-packages (from visualdl>=2.2.2->paddlex) (1.1.1)\n",
      "Requirement already satisfied: flake8>=3.7.9 in /opt/conda/envs/python35-paddle120-env/lib/python3.7/site-packages (from visualdl>=2.2.2->paddlex) (4.0.1)\n",
      "Requirement already satisfied: protobuf>=3.11.0 in /opt/conda/envs/python35-paddle120-env/lib/python3.7/site-packages (from visualdl>=2.2.2->paddlex) (3.14.0)\n",
      "Requirement already satisfied: shellcheck-py in /opt/conda/envs/python35-paddle120-env/lib/python3.7/site-packages (from visualdl>=2.2.2->paddlex) (0.7.1.1)\n",
      "Requirement already satisfied: bce-python-sdk in /opt/conda/envs/python35-paddle120-env/lib/python3.7/site-packages (from visualdl>=2.2.2->paddlex) (0.8.53)\n",
      "Collecting xmltodict>=0.12.0\n",
      "  Downloading https://pypi.tuna.tsinghua.edu.cn/packages/28/fd/30d5c1d3ac29ce229f6bdc40bbc20b28f716e8b363140c26eff19122d8a5/xmltodict-0.12.0-py2.py3-none-any.whl (9.2 kB)\n",
      "Collecting pytest-benchmark\n",
      "  Downloading https://pypi.tuna.tsinghua.edu.cn/packages/2c/60/423a63fb190a0483d049786a121bd3dfd7d93bb5ff1bb5b5cd13e5df99a7/pytest_benchmark-3.4.1-py2.py3-none-any.whl (50 kB)\n",
      "     |████████████████████████████████| 50 kB 205 kB/s             \n",
      "\u001b[?25hCollecting pytest\n",
      "  Downloading https://pypi.tuna.tsinghua.edu.cn/packages/38/93/c7c0bd1e932b287fb948eb9ce5a3d6307c9fc619db1e199f8c8bc5dad95f/pytest-7.0.1-py3-none-any.whl (296 kB)\n",
      "     |████████████████████████████████| 296 kB 775 kB/s            \n",
      "\u001b[?25hCollecting flake8-import-order\n",
      "  Downloading https://pypi.tuna.tsinghua.edu.cn/packages/ab/52/cf2d6e2c505644ca06de2f6f3546f1e4f2b7be34246c9e0757c6048868f9/flake8_import_order-0.18.1-py2.py3-none-any.whl (15 kB)\n",
      "Requirement already satisfied: et-xmlfile in /opt/conda/envs/python35-paddle120-env/lib/python3.7/site-packages (from openpyxl->paddlex) (1.0.1)\n",
      "Requirement already satisfied: jdcal in /opt/conda/envs/python35-paddle120-env/lib/python3.7/site-packages (from openpyxl->paddlex) (1.4.1)\n",
      "Requirement already satisfied: pycodestyle<2.9.0,>=2.8.0 in /opt/conda/envs/python35-paddle120-env/lib/python3.7/site-packages (from flake8>=3.7.9->visualdl>=2.2.2->paddlex) (2.8.0)\n",
      "Requirement already satisfied: pyflakes<2.5.0,>=2.4.0 in /opt/conda/envs/python35-paddle120-env/lib/python3.7/site-packages (from flake8>=3.7.9->visualdl>=2.2.2->paddlex) (2.4.0)\n",
      "Requirement already satisfied: mccabe<0.7.0,>=0.6.0 in /opt/conda/envs/python35-paddle120-env/lib/python3.7/site-packages (from flake8>=3.7.9->visualdl>=2.2.2->paddlex) (0.6.1)\n",
      "Requirement already satisfied: importlib-metadata<4.3 in /opt/conda/envs/python35-paddle120-env/lib/python3.7/site-packages (from flake8>=3.7.9->visualdl>=2.2.2->paddlex) (4.2.0)\n",
      "Requirement already satisfied: click>=5.1 in /opt/conda/envs/python35-paddle120-env/lib/python3.7/site-packages (from flask>=1.1.1->visualdl>=2.2.2->paddlex) (7.0)\n",
      "Requirement already satisfied: Werkzeug>=0.15 in /opt/conda/envs/python35-paddle120-env/lib/python3.7/site-packages (from flask>=1.1.1->visualdl>=2.2.2->paddlex) (0.16.0)\n",
      "Requirement already satisfied: Jinja2>=2.10.1 in /opt/conda/envs/python35-paddle120-env/lib/python3.7/site-packages (from flask>=1.1.1->visualdl>=2.2.2->paddlex) (2.11.0)\n",
      "Requirement already satisfied: itsdangerous>=0.24 in /opt/conda/envs/python35-paddle120-env/lib/python3.7/site-packages (from flask>=1.1.1->visualdl>=2.2.2->paddlex) (1.1.0)\n",
      "Requirement already satisfied: pytz in /opt/conda/envs/python35-paddle120-env/lib/python3.7/site-packages (from Flask-Babel>=1.0.0->visualdl>=2.2.2->paddlex) (2019.3)\n",
      "Requirement already satisfied: Babel>=2.3 in /opt/conda/envs/python35-paddle120-env/lib/python3.7/site-packages (from Flask-Babel>=1.0.0->visualdl>=2.2.2->paddlex) (2.8.0)\n",
      "Requirement already satisfied: python-dateutil>=2.1 in /opt/conda/envs/python35-paddle120-env/lib/python3.7/site-packages (from matplotlib->paddleslim==2.2.1->paddlex) (2.8.2)\n",
      "Requirement already satisfied: pyparsing!=2.0.4,!=2.1.2,!=2.1.6,>=2.0.1 in /opt/conda/envs/python35-paddle120-env/lib/python3.7/site-packages (from matplotlib->paddleslim==2.2.1->paddlex) (3.0.7)\n",
      "Requirement already satisfied: kiwisolver>=1.0.1 in /opt/conda/envs/python35-paddle120-env/lib/python3.7/site-packages (from matplotlib->paddleslim==2.2.1->paddlex) (1.1.0)\n",
      "Requirement already satisfied: cycler>=0.10 in /opt/conda/envs/python35-paddle120-env/lib/python3.7/site-packages (from matplotlib->paddleslim==2.2.1->paddlex) (0.10.0)\n",
      "Requirement already satisfied: pycryptodome>=3.8.0 in /opt/conda/envs/python35-paddle120-env/lib/python3.7/site-packages (from bce-python-sdk->visualdl>=2.2.2->paddlex) (3.9.9)\n",
      "Requirement already satisfied: future>=0.6.0 in /opt/conda/envs/python35-paddle120-env/lib/python3.7/site-packages (from bce-python-sdk->visualdl>=2.2.2->paddlex) (0.18.0)\n",
      "Requirement already satisfied: setuptools in /opt/conda/envs/python35-paddle120-env/lib/python3.7/site-packages (from flake8-import-order->motmetrics->paddlex) (41.4.0)\n",
      "Requirement already satisfied: aspy.yaml in /opt/conda/envs/python35-paddle120-env/lib/python3.7/site-packages (from pre-commit->visualdl>=2.2.2->paddlex) (1.3.0)\n",
      "Requirement already satisfied: nodeenv>=0.11.1 in /opt/conda/envs/python35-paddle120-env/lib/python3.7/site-packages (from pre-commit->visualdl>=2.2.2->paddlex) (1.3.4)\n",
      "Requirement already satisfied: toml in /opt/conda/envs/python35-paddle120-env/lib/python3.7/site-packages (from pre-commit->visualdl>=2.2.2->paddlex) (0.10.0)\n",
      "Requirement already satisfied: identify>=1.0.0 in /opt/conda/envs/python35-paddle120-env/lib/python3.7/site-packages (from pre-commit->visualdl>=2.2.2->paddlex) (1.4.10)\n",
      "Requirement already satisfied: cfgv>=2.0.0 in /opt/conda/envs/python35-paddle120-env/lib/python3.7/site-packages (from pre-commit->visualdl>=2.2.2->paddlex) (2.0.1)\n",
      "Requirement already satisfied: virtualenv>=15.2 in /opt/conda/envs/python35-paddle120-env/lib/python3.7/site-packages (from pre-commit->visualdl>=2.2.2->paddlex) (16.7.9)\n",
      "Collecting py>=1.8.2\n",
      "  Downloading https://pypi.tuna.tsinghua.edu.cn/packages/f6/f0/10642828a8dfb741e5f3fbaac830550a518a775c7fff6f04a007259b0548/py-1.11.0-py2.py3-none-any.whl (98 kB)\n",
      "     |████████████████████████████████| 98 kB 188 kB/s             \n",
      "\u001b[?25hCollecting tomli>=1.0.0\n",
      "  Downloading https://pypi.tuna.tsinghua.edu.cn/packages/97/75/10a9ebee3fd790d20926a90a2547f0bf78f371b2f13aa822c759680ca7b9/tomli-2.0.1-py3-none-any.whl (12 kB)\n",
      "Requirement already satisfied: attrs>=19.2.0 in /opt/conda/envs/python35-paddle120-env/lib/python3.7/site-packages (from pytest->motmetrics->paddlex) (21.4.0)\n",
      "Requirement already satisfied: packaging in /opt/conda/envs/python35-paddle120-env/lib/python3.7/site-packages (from pytest->motmetrics->paddlex) (21.3)\n",
      "Collecting iniconfig\n",
      "  Downloading https://pypi.tuna.tsinghua.edu.cn/packages/9b/dd/b3c12c6d707058fa947864b67f0c4e0c39ef8610988d7baea9578f3c48f3/iniconfig-1.1.1-py2.py3-none-any.whl (5.0 kB)\n",
      "Requirement already satisfied: pluggy<2.0,>=0.12 in /opt/conda/envs/python35-paddle120-env/lib/python3.7/site-packages (from pytest->motmetrics->paddlex) (0.13.1)\n",
      "Collecting py-cpuinfo\n",
      "  Downloading https://pypi.tuna.tsinghua.edu.cn/packages/e6/ba/77120e44cbe9719152415b97d5bfb29f4053ee987d6cb63f55ce7d50fadc/py-cpuinfo-8.0.0.tar.gz (99 kB)\n",
      "     |████████████████████████████████| 99 kB 1.5 MB/s             \n",
      "\u001b[?25h  Preparing metadata (setup.py) ... \u001b[?25ldone\n",
      "\u001b[?25hRequirement already satisfied: idna<3,>=2.5 in /opt/conda/envs/python35-paddle120-env/lib/python3.7/site-packages (from requests->visualdl>=2.2.2->paddlex) (2.8)\n",
      "Requirement already satisfied: urllib3!=1.25.0,!=1.25.1,<1.26,>=1.21.1 in /opt/conda/envs/python35-paddle120-env/lib/python3.7/site-packages (from requests->visualdl>=2.2.2->paddlex) (1.25.6)\n",
      "Requirement already satisfied: certifi>=2017.4.17 in /opt/conda/envs/python35-paddle120-env/lib/python3.7/site-packages (from requests->visualdl>=2.2.2->paddlex) (2019.9.11)\n",
      "Requirement already satisfied: zipp>=0.5 in /opt/conda/envs/python35-paddle120-env/lib/python3.7/site-packages (from importlib-metadata<4.3->flake8>=3.7.9->visualdl>=2.2.2->paddlex) (3.7.0)\n",
      "Requirement already satisfied: typing-extensions>=3.6.4 in /opt/conda/envs/python35-paddle120-env/lib/python3.7/site-packages (from importlib-metadata<4.3->flake8>=3.7.9->visualdl>=2.2.2->paddlex) (4.0.1)\n",
      "Requirement already satisfied: MarkupSafe>=0.23 in /opt/conda/envs/python35-paddle120-env/lib/python3.7/site-packages (from Jinja2>=2.10.1->flask>=1.1.1->visualdl>=2.2.2->paddlex) (2.0.1)\n",
      "Building wheels for collected packages: lap, pycocotools, py-cpuinfo\n",
      "  Building wheel for lap (setup.py) ... \u001b[?25ldone\n",
      "\u001b[?25h  Created wheel for lap: filename=lap-0.4.0-cp37-cp37m-linux_x86_64.whl size=1593877 sha256=2f6ddb1189e4aba3738aca428344ef79b20e4c52fd0c0c1d56ef9b93c1b03e91\n",
      "  Stored in directory: /home/aistudio/.cache/pip/wheels/5c/d0/d2/e331d17a999666b1e2eb99743cfa1742629f9d26c55c657001\n",
      "  Building wheel for pycocotools (pyproject.toml) ... \u001b[?25ldone\n",
      "\u001b[?25h  Created wheel for pycocotools: filename=pycocotools-2.0.4-cp37-cp37m-linux_x86_64.whl size=273792 sha256=02a6aed403f953fe382b647ea7096ef4c9b3d1e46d61d3e6d0c4622888216685\n",
      "  Stored in directory: /home/aistudio/.cache/pip/wheels/c0/01/5f/670dfd20204fc9cc6bf843db4e014acb998f411922e3abc49f\n",
      "  Building wheel for py-cpuinfo (setup.py) ... \u001b[?25ldone\n",
      "\u001b[?25h  Created wheel for py-cpuinfo: filename=py_cpuinfo-8.0.0-py3-none-any.whl size=22243 sha256=01e6e8a1188174ee09ccdbd11739a90bd56f5bc01011c20c29c370c5a53bd45f\n",
      "  Stored in directory: /home/aistudio/.cache/pip/wheels/88/c7/d0/6309c7cc9929894c11fe8e516c3e2a0d0a53ee4e198eac48b7\n",
      "Successfully built lap pycocotools py-cpuinfo\n",
      "Installing collected packages: tomli, py, iniconfig, pytest, py-cpuinfo, xmltodict, threadpoolctl, pytest-benchmark, flake8-import-order, visualdl, shapely, scikit-learn, pycocotools, paddleslim, motmetrics, lap, paddlex\n",
      "  Attempting uninstall: visualdl\n",
      "    Found existing installation: visualdl 2.2.0\n",
      "    Uninstalling visualdl-2.2.0:\n",
      "      Successfully uninstalled visualdl-2.2.0\n",
      "  Attempting uninstall: scikit-learn\n",
      "    Found existing installation: scikit-learn 0.22.1\n",
      "    Uninstalling scikit-learn-0.22.1:\n",
      "      Successfully uninstalled scikit-learn-0.22.1\n",
      "Successfully installed flake8-import-order-0.18.1 iniconfig-1.1.1 lap-0.4.0 motmetrics-1.2.0 paddleslim-2.2.1 paddlex-2.1.0 py-1.11.0 py-cpuinfo-8.0.0 pycocotools-2.0.4 pytest-7.0.1 pytest-benchmark-3.4.1 scikit-learn-0.23.2 shapely-1.8.1.post1 threadpoolctl-3.1.0 tomli-2.0.1 visualdl-2.2.3 xmltodict-0.12.0\n",
      "\u001b[33mWARNING: You are using pip version 21.3.1; however, version 22.0.3 is available.\n",
      "You should consider upgrading via the '/opt/conda/envs/python35-paddle120-env/bin/python -m pip install --upgrade pip' command.\u001b[0m\n"
     ]
    }
   ],
   "source": [
    "#!pip install 'paddlex<=2.2-rc'\r\n",
    "!pip install paddlex"
   ]
  },
  {
   "cell_type": "code",
   "execution_count": 2,
   "metadata": {
    "collapsed": false
   },
   "outputs": [
    {
     "name": "stdout",
     "output_type": "stream",
     "text": [
      "Package                Version\n",
      "---------------------- ---------------\n",
      "absl-py                0.8.1\n",
      "alembic                1.7.5\n",
      "anyio                  3.5.0\n",
      "argcomplete            2.0.0\n",
      "argon2-cffi            21.3.0\n",
      "argon2-cffi-bindings   21.2.0\n",
      "aspy.yaml              1.3.0\n",
      "astor                  0.8.1\n",
      "astroid                2.4.1\n",
      "async-generator        1.10\n",
      "attrs                  21.4.0\n",
      "audioread              2.1.8\n",
      "autopep8               1.6.0\n",
      "Babel                  2.8.0\n",
      "backcall               0.1.0\n",
      "bce-python-sdk         0.8.53\n",
      "blackhole              1.0.1\n",
      "bleach                 4.1.0\n",
      "cachetools             4.0.0\n",
      "certifi                2019.9.11\n",
      "certipy                0.1.3\n",
      "cffi                   1.15.0\n",
      "cfgv                   2.0.1\n",
      "chardet                3.0.4\n",
      "Click                  7.0\n",
      "cloudpickle            1.6.0\n",
      "cma                    2.7.0\n",
      "colorama               0.4.4\n",
      "colorlog               4.1.0\n",
      "cryptography           36.0.1\n",
      "cycler                 0.10.0\n",
      "Cython                 0.29\n",
      "debugpy                1.5.1\n",
      "decorator              4.4.2\n",
      "defusedxml             0.7.1\n",
      "dill                   0.3.3\n",
      "easydict               1.9\n",
      "entrypoints            0.3\n",
      "et-xmlfile             1.0.1\n",
      "filelock               3.0.12\n",
      "flake8                 4.0.1\n",
      "flake8-import-order    0.18.1\n",
      "Flask                  1.1.1\n",
      "Flask-Babel            1.0.0\n",
      "Flask-Cors             3.0.8\n",
      "forbiddenfruit         0.1.3\n",
      "funcsigs               1.0.2\n",
      "future                 0.18.0\n",
      "gast                   0.3.3\n",
      "gitdb                  4.0.5\n",
      "GitPython              3.1.14\n",
      "google-auth            1.10.0\n",
      "google-auth-oauthlib   0.4.1\n",
      "graphviz               0.13\n",
      "greenlet               1.1.2\n",
      "grpcio                 1.35.0\n",
      "gunicorn               20.0.4\n",
      "gym                    0.12.1\n",
      "h5py                   2.9.0\n",
      "identify               1.4.10\n",
      "idna                   2.8\n",
      "imageio                2.6.1\n",
      "imageio-ffmpeg         0.3.0\n",
      "importlib-metadata     4.2.0\n",
      "importlib-resources    5.4.0\n",
      "iniconfig              1.1.1\n",
      "ipykernel              6.5.1\n",
      "ipython                7.31.1\n",
      "ipython-genutils       0.2.0\n",
      "isort                  4.3.21\n",
      "itsdangerous           1.1.0\n",
      "jdcal                  1.4.1\n",
      "jedi                   0.17.2\n",
      "jieba                  0.42.1\n",
      "Jinja2                 2.11.0\n",
      "joblib                 0.14.1\n",
      "JPype1                 0.7.2\n",
      "json5                  0.9.5\n",
      "jsonschema             4.4.0\n",
      "jupyter-archive        3.2.1\n",
      "jupyter-client         7.1.2\n",
      "jupyter-core           4.9.1\n",
      "jupyter-lsp            1.2.0\n",
      "jupyter-server         1.12.0\n",
      "jupyter-telemetry      0.1.0\n",
      "jupyterhub             1.3.0\n",
      "jupyterlab             3.1.12\n",
      "jupyterlab-pygments    0.1.2\n",
      "jupyterlab-server      2.10.3\n",
      "kiwisolver             1.1.0\n",
      "lap                    0.4.0\n",
      "lazy-object-proxy      1.4.3\n",
      "librosa                0.7.2\n",
      "lightgbm               3.1.1\n",
      "llvmlite               0.31.0\n",
      "Mako                   1.1.6\n",
      "Markdown               3.1.1\n",
      "MarkupSafe             2.0.1\n",
      "matplotlib             2.2.3\n",
      "matplotlib-inline      0.1.3\n",
      "mccabe                 0.6.1\n",
      "mistune                0.8.4\n",
      "more-itertools         7.2.0\n",
      "motmetrics             1.2.0\n",
      "moviepy                1.0.1\n",
      "multiprocess           0.70.11.1\n",
      "nbclassic              0.3.1\n",
      "nbclient               0.5.10\n",
      "nbconvert              6.4.0\n",
      "nbformat               5.1.3\n",
      "nest-asyncio           1.5.4\n",
      "netifaces              0.10.9\n",
      "networkx               2.4\n",
      "nltk                   3.4.5\n",
      "nodeenv                1.3.4\n",
      "notebook               5.7.8\n",
      "numba                  0.48.0\n",
      "numpy                  1.19.5\n",
      "oauthlib               3.1.0\n",
      "objgraph               3.4.1\n",
      "opencv-python          4.1.1.26\n",
      "openpyxl               3.0.5\n",
      "packaging              21.3\n",
      "paddlefsl              1.0.0\n",
      "paddlehub              2.0.4\n",
      "paddlenlp              2.1.1\n",
      "paddlepaddle           2.2.2\n",
      "paddleslim             2.2.1\n",
      "paddlex                2.1.0\n",
      "pamela                 1.0.0\n",
      "pandas                 1.1.5\n",
      "pandocfilters          1.5.0\n",
      "parl                   1.4.1\n",
      "parso                  0.7.0\n",
      "pathlib                1.0.1\n",
      "pexpect                4.7.0\n",
      "pickleshare            0.7.5\n",
      "Pillow                 8.2.0\n",
      "pip                    21.3.1\n",
      "pluggy                 0.13.1\n",
      "pre-commit             1.21.0\n",
      "prettytable            0.7.2\n",
      "proglog                0.1.9\n",
      "prometheus-client      0.12.0\n",
      "prompt-toolkit         2.0.10\n",
      "protobuf               3.14.0\n",
      "psutil                 5.7.2\n",
      "ptyprocess             0.7.0\n",
      "py                     1.11.0\n",
      "py-cpuinfo             8.0.0\n",
      "py4j                   0.10.9.2\n",
      "pyarrow                2.0.0\n",
      "pyasn1                 0.4.8\n",
      "pyasn1-modules         0.2.7\n",
      "pycocotools            2.0.4\n",
      "pycodestyle            2.8.0\n",
      "pycparser              2.21\n",
      "pycryptodome           3.9.9\n",
      "pydocstyle             5.0.2\n",
      "pyflakes               2.4.0\n",
      "pyglet                 1.4.5\n",
      "Pygments               2.11.2\n",
      "pylint                 2.5.2\n",
      "pynvml                 8.0.4\n",
      "pyOpenSSL              21.0.0\n",
      "pyparsing              3.0.7\n",
      "pypmml                 0.9.11\n",
      "pyrsistent             0.18.1\n",
      "pytest                 7.0.1\n",
      "pytest-benchmark       3.4.1\n",
      "python-dateutil        2.8.2\n",
      "python-json-logger     2.0.2\n",
      "python-jsonrpc-server  0.4.0\n",
      "python-language-server 0.36.2\n",
      "python-lsp-jsonrpc     1.0.0\n",
      "python-lsp-server      1.3.3\n",
      "pytz                   2019.3\n",
      "PyYAML                 5.1.2\n",
      "pyzmq                  22.3.0\n",
      "rarfile                3.1\n",
      "recordio               0.1.7\n",
      "requests               2.24.0\n",
      "requests-oauthlib      1.3.0\n",
      "resampy                0.2.2\n",
      "rope                   0.17.0\n",
      "rsa                    4.0\n",
      "ruamel.yaml            0.17.20\n",
      "ruamel.yaml.clib       0.2.6\n",
      "scikit-learn           0.23.2\n",
      "scipy                  1.3.0\n",
      "seaborn                0.10.0\n",
      "Send2Trash             1.8.0\n",
      "sentencepiece          0.1.96\n",
      "seqeval                1.2.2\n",
      "setuptools             41.4.0\n",
      "Shapely                1.8.1.post1\n",
      "shellcheck-py          0.7.1.1\n",
      "six                    1.16.0\n",
      "sklearn                0.0\n",
      "smmap                  3.0.5\n",
      "sniffio                1.2.0\n",
      "snowballstemmer        2.0.0\n",
      "SoundFile              0.10.3.post1\n",
      "SQLAlchemy             1.4.31\n",
      "tabulate               0.8.3\n",
      "tb-nightly             1.15.0a20190801\n",
      "tb-paddle              0.3.6\n",
      "tensorboard            2.1.0\n",
      "tensorboardX           1.8\n",
      "termcolor              1.1.0\n",
      "terminado              0.12.1\n",
      "testpath               0.5.0\n",
      "threadpoolctl          3.1.0\n",
      "toml                   0.10.0\n",
      "tomli                  2.0.1\n",
      "tornado                6.1\n",
      "tqdm                   4.27.0\n",
      "traitlets              5.1.1\n",
      "typed-ast              1.4.1\n",
      "typing_extensions      4.0.1\n",
      "ujson                  5.1.0\n",
      "urllib3                1.25.6\n",
      "virtualenv             16.7.9\n",
      "visualdl               2.2.3\n",
      "wcwidth                0.1.7\n",
      "webencodings           0.5.1\n",
      "websocket-client       1.2.3\n",
      "Werkzeug               0.16.0\n",
      "wheel                  0.33.6\n",
      "wrapt                  1.12.1\n",
      "xarray                 0.16.2\n",
      "xgboost                1.3.3\n",
      "xlrd                   1.2.0\n",
      "xmltodict              0.12.0\n",
      "yapf                   0.26.0\n",
      "zipp                   3.7.0\n",
      "\u001b[33mWARNING: You are using pip version 21.3.1; however, version 22.0.3 is available.\n",
      "You should consider upgrading via the '/opt/conda/envs/python35-paddle120-env/bin/python -m pip install --upgrade pip' command.\u001b[0m\n"
     ]
    }
   ],
   "source": [
    "!pip list"
   ]
  },
  {
   "cell_type": "code",
   "execution_count": 3,
   "metadata": {
    "collapsed": false
   },
   "outputs": [],
   "source": [
    "!unzip -oq /home/aistudio/data/data101031/Garbages.zip -d work/ "
   ]
  },
  {
   "cell_type": "code",
   "execution_count": 4,
   "metadata": {
    "collapsed": false
   },
   "outputs": [
    {
     "name": "stdout",
     "output_type": "stream",
     "text": [
      "/opt/conda/envs/python35-paddle120-env/lib/python3.7/site-packages/setuptools/depends.py:2: DeprecationWarning: the imp module is deprecated in favour of importlib; see the module's documentation for alternative uses\n",
      "  import imp\n",
      "\u001b[32m[02-24 13:15:35 MainThread @logger.py:242]\u001b[0m Argv: /opt/conda/envs/python35-paddle120-env/bin/paddlex --split_dataset --format ImageNet --dataset_dir work --val_value 0.2 --test_value 0.1\n",
      "\u001b[0m\u001b[33m[02-24 13:15:35 MainThread @utils.py:79]\u001b[0m \u001b[5m\u001b[33mWRN\u001b[0m paddlepaddle version: 2.2.2. The dynamic graph version of PARL is under development, not fully tested and supported\n",
      "\u001b[0m/opt/conda/envs/python35-paddle120-env/lib/python3.7/site-packages/parl/remote/communication.py:38: DeprecationWarning: 'pyarrow.default_serialization_context' is deprecated as of 2.0.0 and will be removed in a future version. Use pickle or the pyarrow IPC functionality instead.\n",
      "  context = pyarrow.default_serialization_context()\n",
      "\u001b[0m/opt/conda/envs/python35-paddle120-env/lib/python3.7/site-packages/matplotlib/__init__.py:107: DeprecationWarning: Using or importing the ABCs from 'collections' instead of from 'collections.abc' is deprecated, and in 3.8 it will stop working\n",
      "  from collections import MutableMapping\n",
      "\u001b[0m/opt/conda/envs/python35-paddle120-env/lib/python3.7/site-packages/matplotlib/rcsetup.py:20: DeprecationWarning: Using or importing the ABCs from 'collections' instead of from 'collections.abc' is deprecated, and in 3.8 it will stop working\n",
      "  from collections import Iterable, Mapping\n",
      "\u001b[0m/opt/conda/envs/python35-paddle120-env/lib/python3.7/site-packages/matplotlib/colors.py:53: DeprecationWarning: Using or importing the ABCs from 'collections' instead of from 'collections.abc' is deprecated, and in 3.8 it will stop working\n",
      "  from collections import Sized\n",
      "2022-02-24 13:15:36 [INFO]\tDataset split starts...\u001b[0m\n",
      "\u001b[0m2022-02-24 13:15:38 [INFO]\tDataset split done.\u001b[0m\n",
      "\u001b[0m2022-02-24 13:15:38 [INFO]\tTrain samples: 48300\u001b[0m\n",
      "\u001b[0m2022-02-24 13:15:38 [INFO]\tEval samples: 13800\u001b[0m\n",
      "\u001b[0m2022-02-24 13:15:38 [INFO]\tTest samples: 6900\u001b[0m\n",
      "\u001b[0m2022-02-24 13:15:38 [INFO]\tSplit files saved in work\u001b[0m\n",
      "\u001b[0m\u001b[0m\u001b[0m"
     ]
    }
   ],
   "source": [
    "!paddlex --split_dataset --format ImageNet --dataset_dir work --val_value 0.2 --test_value 0.1 "
   ]
  },
  {
   "cell_type": "code",
   "execution_count": 5,
   "metadata": {
    "collapsed": false
   },
   "outputs": [
    {
     "name": "stdout",
     "output_type": "stream",
     "text": [
      "[02-24 13:16:38 MainThread @utils.py:79] WRN paddlepaddle version: 2.2.2. The dynamic graph version of PARL is under development, not fully tested and supported\n"
     ]
    },
    {
     "name": "stderr",
     "output_type": "stream",
     "text": [
      "/opt/conda/envs/python35-paddle120-env/lib/python3.7/site-packages/parl/remote/communication.py:38: DeprecationWarning: 'pyarrow.default_serialization_context' is deprecated as of 2.0.0 and will be removed in a future version. Use pickle or the pyarrow IPC functionality instead.\n",
      "  context = pyarrow.default_serialization_context()\n"
     ]
    }
   ],
   "source": [
    "import matplotlib\r\n",
    "matplotlib.use('Agg')\r\n",
    "import os\r\n",
    "os.environ['CUDA_VISIBLE_DEVICES']='0'\r\n",
    "import paddlex as pdx"
   ]
  },
  {
   "cell_type": "code",
   "execution_count": 6,
   "metadata": {
    "collapsed": false
   },
   "outputs": [],
   "source": [
    "from paddlex import transforms as T\r\n",
    "train_transforms = T.Compose(\r\n",
    "    [T.RandomCrop(crop_size=224), T.RandomHorizontalFlip(), T.Normalize()])\r\n",
    "\r\n",
    "eval_transforms = T.Compose([\r\n",
    "    T.ResizeByShort(short_size=256), T.CenterCrop(crop_size=224), T.Normalize()\r\n",
    "])"
   ]
  },
  {
   "cell_type": "code",
   "execution_count": 7,
   "metadata": {
    "collapsed": false
   },
   "outputs": [
    {
     "name": "stdout",
     "output_type": "stream",
     "text": [
      "2022-02-24 13:17:33 [INFO]\tStarting to read file list from dataset...\n",
      "2022-02-24 13:17:34 [INFO]\t48300 samples in file work/train_list.txt\n",
      "2022-02-24 13:17:34 [INFO]\tStarting to read file list from dataset...\n",
      "2022-02-24 13:17:34 [INFO]\t13800 samples in file work/val_list.txt\n"
     ]
    }
   ],
   "source": [
    "train_dataset = pdx.datasets.ImageNet(\r\n",
    "    data_dir='work',\r\n",
    "    file_list='work/train_list.txt',\r\n",
    "    label_list='work/labels.txt',\r\n",
    "    transforms=train_transforms,\r\n",
    "    shuffle=True)\r\n",
    "eval_dataset = pdx.datasets.ImageNet(\r\n",
    "    data_dir='work',\r\n",
    "    file_list='work/val_list.txt',\r\n",
    "    label_list='work/labels.txt',\r\n",
    "    transforms=eval_transforms)"
   ]
  },
  {
   "cell_type": "markdown",
   "metadata": {
    "collapsed": false
   },
   "source": [
    " <font size=\"5\" color=\"black\">三.模型介绍：</font>本文档中使用百度基于蒸馏方法得到的MobileNetV3预训练模型，模型结构与MobileNetV3一致"
   ]
  },
  {
   "cell_type": "markdown",
   "metadata": {
    "collapsed": false
   },
   "source": [
    " <font size=\"5\" color=\"black\">四.模型训练：</font>"
   ]
  },
  {
   "cell_type": "code",
   "execution_count": null,
   "metadata": {
    "collapsed": false
   },
   "outputs": [
    {
     "name": "stdout",
     "output_type": "stream",
     "text": [
      "2022-02-24 13:17:58 [INFO]\tDownloading ResNet50_vd_ssld_pretrained.pdparams from https://paddle-imagenet-models-name.bj.bcebos.com/dygraph/legendary_models/ResNet50_vd_ssld_pretrained.pdparams\n"
     ]
    },
    {
     "name": "stderr",
     "output_type": "stream",
     "text": [
      "100%|██████████| 151509/151509 [00:02<00:00, 61569.81KB/s]\n"
     ]
    },
    {
     "name": "stdout",
     "output_type": "stream",
     "text": [
      "2022-02-24 13:18:01 [INFO]\tLoading pretrained model from output/resnet50_vd_ssld/pretrain/ResNet50_vd_ssld_pretrained.pdparams\n",
      "2022-02-24 13:18:02 [WARNING]\t[SKIP] Shape of pretrained params fc.weight doesn't match.(Pretrained: (2048, 1000), Actual: [2048, 5])\n",
      "2022-02-24 13:18:02 [WARNING]\t[SKIP] Shape of pretrained params fc.bias doesn't match.(Pretrained: (1000,), Actual: [5])\n",
      "2022-02-24 13:18:02 [INFO]\tThere are 275/277 variables loaded into ResNet50_vd_ssld.\n",
      "2022-02-24 13:21:04 [INFO]\t[TRAIN] Epoch=1/5, Step=10/1509, loss=0.658074, acc1=0.812500, acc5=1.000000, lr=0.025000, time_each_step=18.18s, eta=40:14:8\n",
      "2022-02-24 13:24:01 [INFO]\t[TRAIN] Epoch=1/5, Step=20/1509, loss=0.498513, acc1=0.812500, acc5=1.000000, lr=0.025000, time_each_step=17.69s, eta=39:5:21\n",
      "2022-02-24 13:26:59 [INFO]\t[TRAIN] Epoch=1/5, Step=30/1509, loss=0.876329, acc1=0.781250, acc5=1.000000, lr=0.025000, time_each_step=17.88s, eta=39:28:17\n",
      "2022-02-24 13:29:55 [INFO]\t[TRAIN] Epoch=1/5, Step=40/1509, loss=0.901564, acc1=0.656250, acc5=1.000000, lr=0.025000, time_each_step=17.56s, eta=38:43:21\n"
     ]
    }
   ],
   "source": [
    "num_classes = len(train_dataset.labels)\r\n",
    "model = pdx.cls.ResNet50_vd_ssld(num_classes=len(train_dataset.labels))\r\n",
    "\r\n",
    "model.train(\r\n",
    "    num_epochs=5,\r\n",
    "    train_dataset=train_dataset,\r\n",
    "    train_batch_size=32,\r\n",
    "    eval_dataset=eval_dataset,\r\n",
    "    lr_decay_epochs=[4, 6, 8],\r\n",
    "    learning_rate=0.025,\r\n",
    "    save_dir='output/resnet50_vd_ssld',\r\n",
    "    use_vdl=True)"
   ]
  },
  {
   "cell_type": "markdown",
   "metadata": {
    "collapsed": false
   },
   "source": [
    "<font size=\"5\" color=\"black\">五.模型评估：</font>"
   ]
  },
  {
   "cell_type": "code",
   "execution_count": null,
   "metadata": {
    "collapsed": false
   },
   "outputs": [],
   "source": [
    "import paddlex as pdx\r\n",
    "model = pdx.load_model('output/resnet50_vd_ssld/best_model')\r\n",
    "image_name = 'work/evalImageSet/70.jpg'\r\n",
    "result = model.predict(image_name)\r\n",
    "print(\"Predict Result:\", result)"
   ]
  },
  {
   "cell_type": "markdown",
   "metadata": {
    "collapsed": false
   },
   "source": [
    " <font size=\"5\" color=\"black\">六.个人总结：</font>新手小白，大一新生，在这里学习了很多，虽然可能还没有上路，有许多还不懂，希望可以好好学习以后。"
   ]
  },
  {
   "cell_type": "markdown",
   "metadata": {
    "collapsed": false
   },
   "source": [
    "<font size=\"5\" color=\"black\">七.总结与升华：</font>我国经济快速增长，各项建设取得巨大成就，但也付出了巨大的资源和环境被破坏的代价，这两者之间的矛盾日趋尖锐，群众对环境污染问题反应强烈。这种状况与经济结构不合理、增长方式粗放直接相关。不加快调整经济结构，转变增长方式，资源支撑不住，环境容纳不下，社会承受不起，经济发展难以为继。只有坚持节约发展、清洁发展、安全发展，才能实现经济又好又快发展。垃圾分类是垃圾进行科学处理的前提，为垃圾的减量化、资源化、无害化处理奠定基础。普及环保与垃圾的知识，提升全社会对环卫行业的认知，减少环卫工人的工作难度，形成尊重、关心环卫工人的氛围。垃圾分类是对垃圾进行前处置的重要环节。通过分类投放、分类收集，把有用物资，如纸张、塑料、橡胶、玻璃、瓶罐、金属以及废旧家用电器等从垃圾中分离出来重新回收、利用，变废为宝。既提高垃圾资源利用水平，又可减少垃圾处置量。它是实现垃圾减量化和资源化的重要途径和手段。垃圾通过分类收集后便于对不同类垃圾进行分类处置。如对有机垃圾进行堆肥发酵处理，把有机垃圾制成农田用肥和绿化用肥，对没有回收利用价值的无机垃圾进行填埋处置，对热值较高的可燃垃圾进行焚烧处置。垃圾分类是对垃圾收集处置传统方式的改革，是对垃圾进行有效处置的一种科学管理方法。人们面对日益增长的垃圾产量和环境状况恶化的局面，如何通过垃圾分类管理，最大限度地实现垃圾资源利用，减少垃圾处置量，改善生存环境质量，是当前世界各国共同关注的迫切问题之一。"
   ]
  },
  {
   "cell_type": "code",
   "execution_count": null,
   "metadata": {
    "collapsed": false
   },
   "outputs": [],
   "source": [
    "# 查看当前挂载的数据集目录, 该目录下的变更重启环境后会自动还原\n",
    "# View dataset directory. \n",
    "# This directory will be recovered automatically after resetting environment. \n",
    "!ls /home/aistudio/data"
   ]
  },
  {
   "cell_type": "code",
   "execution_count": 0,
   "metadata": {
    "collapsed": false
   },
   "outputs": [],
   "source": [
    "# 查看工作区文件, 该目录下的变更将会持久保存. 请及时清理不必要的文件, 避免加载过慢.\n",
    "# View personal work directory. \n",
    "# All changes under this directory will be kept even after reset. \n",
    "# Please clean unnecessary files in time to speed up environment loading. \n",
    "!ls /home/aistudio/work"
   ]
  },
  {
   "cell_type": "code",
   "execution_count": null,
   "metadata": {
    "collapsed": false
   },
   "outputs": [],
   "source": [
    "# 如果需要进行持久化安装, 需要使用持久化路径, 如下方代码示例:\n",
    "# If a persistence installation is required, \n",
    "# you need to use the persistence path as the following: \n",
    "!mkdir /home/aistudio/external-libraries\n",
    "!pip install beautifulsoup4 -t /home/aistudio/external-libraries"
   ]
  },
  {
   "cell_type": "code",
   "execution_count": null,
   "metadata": {
    "collapsed": false
   },
   "outputs": [],
   "source": [
    "# 同时添加如下代码, 这样每次环境(kernel)启动的时候只要运行下方代码即可: \n",
    "# Also add the following code, \n",
    "# so that every time the environment (kernel) starts, \n",
    "# just run the following code: \n",
    "import sys \n",
    "sys.path.append('/home/aistudio/external-libraries')"
   ]
  },
  {
   "cell_type": "markdown",
   "metadata": {
    "collapsed": false
   },
   "source": [
    "请点击[此处](https://ai.baidu.com/docs#/AIStudio_Project_Notebook/a38e5576)查看本环境基本用法.  <br>\n",
    "Please click [here ](https://ai.baidu.com/docs#/AIStudio_Project_Notebook/a38e5576) for more detailed instructions. "
   ]
  }
 ],
 "metadata": {
  "kernelspec": {
   "display_name": "Python 3",
   "language": "python",
   "name": "py35-paddle1.2.0"
  },
  "language_info": {
   "codemirror_mode": {
    "name": "ipython",
    "version": 3
   },
   "file_extension": ".py",
   "mimetype": "text/x-python",
   "name": "python",
   "nbconvert_exporter": "python",
   "pygments_lexer": "ipython3",
   "version": "3.7.4"
  }
 },
 "nbformat": 4,
 "nbformat_minor": 1
}
